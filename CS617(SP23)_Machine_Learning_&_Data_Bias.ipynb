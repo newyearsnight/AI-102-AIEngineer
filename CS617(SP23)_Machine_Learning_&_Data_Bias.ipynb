{
  "nbformat": 4,
  "nbformat_minor": 0,
  "metadata": {
    "kernelspec": {
      "display_name": "Python 3",
      "language": "python",
      "name": "python3"
    },
    "language_info": {
      "codemirror_mode": {
        "name": "ipython",
        "version": 3
      },
      "file_extension": ".py",
      "mimetype": "text/x-python",
      "name": "python",
      "nbconvert_exporter": "python",
      "pygments_lexer": "ipython3",
      "version": "3.7.4"
    },
    "colab": {
      "provenance": [],
      "collapsed_sections": [
        "XQmKpHX8JSok",
        "NQ_-gAWTJSpG",
        "hxCV0PncJSpW"
      ],
      "toc_visible": true,
      "include_colab_link": true
    }
  },
  "cells": [
    {
      "cell_type": "markdown",
      "metadata": {
        "id": "view-in-github",
        "colab_type": "text"
      },
      "source": [
        "<a href=\"https://colab.research.google.com/github/newyearsnight/AI-102-AIEngineer/blob/master/CS617(SP23)_Machine_Learning_%26_Data_Bias.ipynb\" target=\"_parent\"><img src=\"https://colab.research.google.com/assets/colab-badge.svg\" alt=\"Open In Colab\"/></a>"
      ]
    },
    {
      "cell_type": "markdown",
      "metadata": {
        "id": "Qtj-K_o9JSn7"
      },
      "source": [
        "## Machine Learning & Data Bias ⚖️\n",
        "\n",
        "Adapted from [Exploring Unfairness and Bias in Data](http://modelai.gettysburg.edu/2020/bias/)  by Jonathan Chen, Tom Larsen, and Marion Neumann\n"
      ]
    },
    {
      "cell_type": "markdown",
      "metadata": {
        "id": "hRAtl4m2JSn-"
      },
      "source": [
        "## Learning Objectives\n",
        "*   Understand how machine learning is used to solve real problems\n",
        "*   Describe on a high level how classification algorithms operate\n",
        "Understand how performance metrics such as validation scores\n",
        "*   Understand how performance metrics such as validation scores\n",
        "*   Understand how bias can arise though even unintentionally\n",
        "\n",
        "\n",
        "## Agenda\n",
        "\n",
        "1. [Warm-Up](#1.-Unfairness)\n",
        "2. [Data Exploration](#2.-Data-Exploration)\n",
        "3. [Modelling](#3.-Building-a-Model)\n",
        "4. [Discussion](#4.-Becoming-Data-and-Fairness-Aware)"
      ]
    },
    {
      "cell_type": "markdown",
      "metadata": {
        "id": "tbbxhjeGJSn_"
      },
      "source": [
        "##1. Warm-Up (Video)\n",
        "\n",
        "Watch [this video on Amazon’s AI recruitment tool](https://www.youtube.com/watch?v=QvRZuHQBTps) and have students discuss the consequences of this technology.\n",
        "\n"
      ]
    },
    {
      "cell_type": "markdown",
      "metadata": {
        "id": "RSfDRKZqJSoB"
      },
      "source": [
        "## 2. Data Exploration\n",
        "\n",
        "Imagine that you are a data scientist at a bank and that one of your company's primary business areas is in lending money. The current loan approval process, that has been in place since the founding of the bank, has always relied on manual review of applications -- a process that is tedious and doesn't scale well in the modern age. The company wants to expand their business, but this archeic system is holding them back.\n",
        "\n",
        "Think about how to approach this problem, you immediately think of using the bank's past loan approval records to build a model that can learn how a human application reviewer decides which applications to approve and which to reject.\n"
      ]
    },
    {
      "cell_type": "markdown",
      "metadata": {
        "id": "7dANtrupJSoC"
      },
      "source": [
        "### Acquiring the Data\n",
        "\n"
      ]
    },
    {
      "cell_type": "markdown",
      "metadata": {
        "id": "LcvvSTDxJSoD"
      },
      "source": [
        "Before we begin, let's make sure that we have the data. The cell reads data from a shared Google Drive file."
      ]
    },
    {
      "cell_type": "code",
      "metadata": {
        "id": "qvjby4H1kHmn"
      },
      "source": [
        "# Code to read csv file into Colaboratory:\n",
        "!pip install -U -q PyDrive\n",
        "from pydrive.auth import GoogleAuth\n",
        "from pydrive.drive import GoogleDrive\n",
        "from google.colab import auth\n",
        "from oauth2client.client import GoogleCredentials\n",
        "\n",
        "# Authenticate and create the PyDrive client.\n",
        "auth.authenticate_user()\n",
        "gauth = GoogleAuth()\n",
        "gauth.credentials = GoogleCredentials.get_application_default()\n",
        "drive = GoogleDrive(gauth)\n",
        "\n",
        "link = 'https://drive.google.com/open?id=1JWvFY96F5BlIdH35pFZVy-Bi3LMupdA4'\n",
        "\n",
        "stuff, id = link.split('=')\n"
      ],
      "execution_count": null,
      "outputs": []
    },
    {
      "cell_type": "markdown",
      "metadata": {
        "id": "HXWlUFOHJSoH"
      },
      "source": [
        "Next, let's load our data. In the cell below, we read our [CSV][1] file into a [Pandas][2] [`DataFrame`][3] called `data`.\n",
        "\n",
        "\n",
        "\n",
        "[1]: https://en.wikipedia.org/wiki/Comma-separated_values\n",
        "[2]: https://pandas.pydata.org/\n",
        "[3]: https://pandas.pydata.org/pandas-docs/stable/reference/api/pandas.DataFrame.html"
      ]
    },
    {
      "cell_type": "code",
      "metadata": {
        "id": "L2PpE0QQp-VH"
      },
      "source": [
        "import pandas as pd"
      ],
      "execution_count": null,
      "outputs": []
    },
    {
      "cell_type": "code",
      "metadata": {
        "id": "u7hQqnoPJSoI"
      },
      "source": [
        "downloaded = drive.CreateFile({'id':id}) \n",
        "downloaded.GetContentFile('Filename.csv')  \n",
        "data = pd.read_csv('Filename.csv')\n",
        "# Dataset is now stored in a Pandas Dataframe"
      ],
      "execution_count": null,
      "outputs": []
    },
    {
      "cell_type": "markdown",
      "metadata": {
        "id": "phFIhMVQJSoM"
      },
      "source": [
        "Let's take a look at what we have."
      ]
    },
    {
      "cell_type": "code",
      "metadata": {
        "id": "vogQY1WWJSoN",
        "colab": {
          "base_uri": "https://localhost:8080/",
          "height": 507
        },
        "outputId": "a1c11cb1-0829-44f8-95cd-d92cf26017e3"
      },
      "source": [
        "data"
      ],
      "execution_count": null,
      "outputs": [
        {
          "output_type": "execute_result",
          "data": {
            "text/html": [
              "<div>\n",
              "<style scoped>\n",
              "    .dataframe tbody tr th:only-of-type {\n",
              "        vertical-align: middle;\n",
              "    }\n",
              "\n",
              "    .dataframe tbody tr th {\n",
              "        vertical-align: top;\n",
              "    }\n",
              "\n",
              "    .dataframe thead th {\n",
              "        text-align: right;\n",
              "    }\n",
              "</style>\n",
              "<table border=\"1\" class=\"dataframe\">\n",
              "  <thead>\n",
              "    <tr style=\"text-align: right;\">\n",
              "      <th></th>\n",
              "      <th>loan_id</th>\n",
              "      <th>loan_status</th>\n",
              "      <th>principal</th>\n",
              "      <th>terms</th>\n",
              "      <th>effective_date</th>\n",
              "      <th>due_date</th>\n",
              "      <th>paid_off_time</th>\n",
              "      <th>past_due_days</th>\n",
              "      <th>age</th>\n",
              "      <th>education</th>\n",
              "      <th>gender</th>\n",
              "    </tr>\n",
              "  </thead>\n",
              "  <tbody>\n",
              "    <tr>\n",
              "      <th>0</th>\n",
              "      <td>xqd20166231</td>\n",
              "      <td>PAIDOFF</td>\n",
              "      <td>1000</td>\n",
              "      <td>30</td>\n",
              "      <td>9/8/2016</td>\n",
              "      <td>10/7/2016</td>\n",
              "      <td>9/14/2016 19:31</td>\n",
              "      <td>NaN</td>\n",
              "      <td>45</td>\n",
              "      <td>High School or Below</td>\n",
              "      <td>male</td>\n",
              "    </tr>\n",
              "    <tr>\n",
              "      <th>1</th>\n",
              "      <td>xqd20168902</td>\n",
              "      <td>PAIDOFF</td>\n",
              "      <td>1000</td>\n",
              "      <td>30</td>\n",
              "      <td>9/8/2016</td>\n",
              "      <td>10/7/2016</td>\n",
              "      <td>10/7/2016 9:00</td>\n",
              "      <td>NaN</td>\n",
              "      <td>50</td>\n",
              "      <td>Bachelors</td>\n",
              "      <td>female</td>\n",
              "    </tr>\n",
              "    <tr>\n",
              "      <th>2</th>\n",
              "      <td>xqd20160003</td>\n",
              "      <td>PAIDOFF</td>\n",
              "      <td>1000</td>\n",
              "      <td>30</td>\n",
              "      <td>9/8/2016</td>\n",
              "      <td>10/7/2016</td>\n",
              "      <td>9/25/2016 16:58</td>\n",
              "      <td>NaN</td>\n",
              "      <td>33</td>\n",
              "      <td>Bachelors</td>\n",
              "      <td>female</td>\n",
              "    </tr>\n",
              "    <tr>\n",
              "      <th>3</th>\n",
              "      <td>xqd20160004</td>\n",
              "      <td>PAIDOFF</td>\n",
              "      <td>1000</td>\n",
              "      <td>15</td>\n",
              "      <td>9/8/2016</td>\n",
              "      <td>9/22/2016</td>\n",
              "      <td>9/22/2016 20:00</td>\n",
              "      <td>NaN</td>\n",
              "      <td>27</td>\n",
              "      <td>College</td>\n",
              "      <td>male</td>\n",
              "    </tr>\n",
              "    <tr>\n",
              "      <th>4</th>\n",
              "      <td>xqd20160005</td>\n",
              "      <td>PAIDOFF</td>\n",
              "      <td>1000</td>\n",
              "      <td>30</td>\n",
              "      <td>9/9/2016</td>\n",
              "      <td>10/8/2016</td>\n",
              "      <td>9/23/2016 21:36</td>\n",
              "      <td>NaN</td>\n",
              "      <td>28</td>\n",
              "      <td>College</td>\n",
              "      <td>female</td>\n",
              "    </tr>\n",
              "    <tr>\n",
              "      <th>...</th>\n",
              "      <td>...</td>\n",
              "      <td>...</td>\n",
              "      <td>...</td>\n",
              "      <td>...</td>\n",
              "      <td>...</td>\n",
              "      <td>...</td>\n",
              "      <td>...</td>\n",
              "      <td>...</td>\n",
              "      <td>...</td>\n",
              "      <td>...</td>\n",
              "      <td>...</td>\n",
              "    </tr>\n",
              "    <tr>\n",
              "      <th>495</th>\n",
              "      <td>xqd20160496</td>\n",
              "      <td>COLLECTION_PAIDOFF</td>\n",
              "      <td>1000</td>\n",
              "      <td>30</td>\n",
              "      <td>9/12/2016</td>\n",
              "      <td>10/11/2016</td>\n",
              "      <td>10/14/2016 19:08</td>\n",
              "      <td>3.0</td>\n",
              "      <td>28</td>\n",
              "      <td>High School or Below</td>\n",
              "      <td>male</td>\n",
              "    </tr>\n",
              "    <tr>\n",
              "      <th>496</th>\n",
              "      <td>xqd20160497</td>\n",
              "      <td>COLLECTION_PAIDOFF</td>\n",
              "      <td>1000</td>\n",
              "      <td>15</td>\n",
              "      <td>9/12/2016</td>\n",
              "      <td>9/26/2016</td>\n",
              "      <td>10/10/2016 20:02</td>\n",
              "      <td>14.0</td>\n",
              "      <td>26</td>\n",
              "      <td>High School or Below</td>\n",
              "      <td>male</td>\n",
              "    </tr>\n",
              "    <tr>\n",
              "      <th>497</th>\n",
              "      <td>xqd20160498</td>\n",
              "      <td>COLLECTION_PAIDOFF</td>\n",
              "      <td>800</td>\n",
              "      <td>15</td>\n",
              "      <td>9/12/2016</td>\n",
              "      <td>9/26/2016</td>\n",
              "      <td>9/29/2016 11:49</td>\n",
              "      <td>3.0</td>\n",
              "      <td>30</td>\n",
              "      <td>College</td>\n",
              "      <td>male</td>\n",
              "    </tr>\n",
              "    <tr>\n",
              "      <th>498</th>\n",
              "      <td>xqd20160499</td>\n",
              "      <td>COLLECTION_PAIDOFF</td>\n",
              "      <td>1000</td>\n",
              "      <td>30</td>\n",
              "      <td>9/12/2016</td>\n",
              "      <td>11/10/2016</td>\n",
              "      <td>11/11/2016 22:40</td>\n",
              "      <td>1.0</td>\n",
              "      <td>38</td>\n",
              "      <td>College</td>\n",
              "      <td>female</td>\n",
              "    </tr>\n",
              "    <tr>\n",
              "      <th>499</th>\n",
              "      <td>xqd20160500</td>\n",
              "      <td>COLLECTION_PAIDOFF</td>\n",
              "      <td>1000</td>\n",
              "      <td>30</td>\n",
              "      <td>9/12/2016</td>\n",
              "      <td>10/11/2016</td>\n",
              "      <td>10/19/2016 11:58</td>\n",
              "      <td>8.0</td>\n",
              "      <td>28</td>\n",
              "      <td>High School or Below</td>\n",
              "      <td>male</td>\n",
              "    </tr>\n",
              "  </tbody>\n",
              "</table>\n",
              "<p>500 rows × 11 columns</p>\n",
              "</div>"
            ],
            "text/plain": [
              "         loan_id         loan_status  ...             education  gender\n",
              "0    xqd20166231             PAIDOFF  ...  High School or Below    male\n",
              "1    xqd20168902             PAIDOFF  ...             Bachelors  female\n",
              "2    xqd20160003             PAIDOFF  ...             Bachelors  female\n",
              "3    xqd20160004             PAIDOFF  ...               College    male\n",
              "4    xqd20160005             PAIDOFF  ...               College  female\n",
              "..           ...                 ...  ...                   ...     ...\n",
              "495  xqd20160496  COLLECTION_PAIDOFF  ...  High School or Below    male\n",
              "496  xqd20160497  COLLECTION_PAIDOFF  ...  High School or Below    male\n",
              "497  xqd20160498  COLLECTION_PAIDOFF  ...               College    male\n",
              "498  xqd20160499  COLLECTION_PAIDOFF  ...               College  female\n",
              "499  xqd20160500  COLLECTION_PAIDOFF  ...  High School or Below    male\n",
              "\n",
              "[500 rows x 11 columns]"
            ]
          },
          "metadata": {
            "tags": []
          },
          "execution_count": 4
        }
      ]
    },
    {
      "cell_type": "markdown",
      "metadata": {
        "id": "hCnQSySUJSoQ"
      },
      "source": [
        "**Question 1.** How many examples are in our data set? How many features does it have?"
      ]
    },
    {
      "cell_type": "markdown",
      "metadata": {
        "id": "DuyDQ1OsoFcZ"
      },
      "source": [
        "500, 11\n",
        "\n"
      ]
    },
    {
      "cell_type": "markdown",
      "metadata": {
        "id": "38PZiiQJJSoS"
      },
      "source": [
        "**Write-up!** With your neighbor, come up with a description of what you think each feature is and what type of feature each one is. Which one should be our target variable? Which ones do you think will be useful for our model?"
      ]
    },
    {
      "cell_type": "markdown",
      "metadata": {
        "id": "AidB0xr1p1GS"
      },
      "source": [
        "* loan_id: id for record-keeping\n",
        "* loan_status: whether the loan has been paid off\n",
        "* principal: original amount borrowed\n",
        "* terms: amount of days given to pay back the loan\n",
        "* effective_date: loan granted date\n",
        "* due_date: loan due date\n",
        "* paid_off_time: date and time the loan was paid off\n",
        "* part_due_days: number of days the loan is past due (NaN * if paid on time)\n",
        "* age: age of the borrower\n",
        "* education: education level of the borrower\n",
        "* gender: gender of the borrower\n",
        "```\n",
        "Answer:\n",
        "Target variable: load_status\n",
        "Useful features: education, past_due_days, age\n",
        "```\n",
        "\n",
        "\n",
        "\n",
        "\n",
        "\n",
        "\n",
        "\n"
      ]
    },
    {
      "cell_type": "markdown",
      "metadata": {
        "id": "9Q5tYiUiJSoU"
      },
      "source": [
        "### Making Some Adjustments"
      ]
    },
    {
      "cell_type": "markdown",
      "metadata": {
        "id": "3gbHqhrOJSoU"
      },
      "source": [
        "Now let's drop the columns in `data` that contain features that we are not interested in. Since `loan_id`s are not informative for predicting new loans, we can ignore them. Additionally, `effective_date`, `due_date`, and `paid_off_time` are all encoded in `past_due_days`. It is unlikely that the specifics of when a loan was due is predictive of success."
      ]
    },
    {
      "cell_type": "code",
      "metadata": {
        "id": "T1GahjNqJSoV"
      },
      "source": [
        "not_interested = ['loan_id', 'effective_date', 'due_date', 'paid_off_time']\n",
        "\n",
        "data = data.drop(not_interested, axis=1)"
      ],
      "execution_count": null,
      "outputs": []
    },
    {
      "cell_type": "markdown",
      "metadata": {
        "id": "IRFD8BezJSoY"
      },
      "source": [
        "Let's see our new data set."
      ]
    },
    {
      "cell_type": "code",
      "metadata": {
        "id": "Y1nYDDEAJSoZ",
        "colab": {
          "base_uri": "https://localhost:8080/",
          "height": 204
        },
        "outputId": "fb4a436c-bacc-4b2b-b3e3-0fc37b1bf819"
      },
      "source": [
        "data.head()"
      ],
      "execution_count": null,
      "outputs": [
        {
          "output_type": "execute_result",
          "data": {
            "text/html": [
              "<div>\n",
              "<style scoped>\n",
              "    .dataframe tbody tr th:only-of-type {\n",
              "        vertical-align: middle;\n",
              "    }\n",
              "\n",
              "    .dataframe tbody tr th {\n",
              "        vertical-align: top;\n",
              "    }\n",
              "\n",
              "    .dataframe thead th {\n",
              "        text-align: right;\n",
              "    }\n",
              "</style>\n",
              "<table border=\"1\" class=\"dataframe\">\n",
              "  <thead>\n",
              "    <tr style=\"text-align: right;\">\n",
              "      <th></th>\n",
              "      <th>loan_status</th>\n",
              "      <th>principal</th>\n",
              "      <th>terms</th>\n",
              "      <th>past_due_days</th>\n",
              "      <th>age</th>\n",
              "      <th>education</th>\n",
              "      <th>gender</th>\n",
              "    </tr>\n",
              "  </thead>\n",
              "  <tbody>\n",
              "    <tr>\n",
              "      <th>0</th>\n",
              "      <td>PAIDOFF</td>\n",
              "      <td>1000</td>\n",
              "      <td>30</td>\n",
              "      <td>NaN</td>\n",
              "      <td>45</td>\n",
              "      <td>High School or Below</td>\n",
              "      <td>male</td>\n",
              "    </tr>\n",
              "    <tr>\n",
              "      <th>1</th>\n",
              "      <td>PAIDOFF</td>\n",
              "      <td>1000</td>\n",
              "      <td>30</td>\n",
              "      <td>NaN</td>\n",
              "      <td>50</td>\n",
              "      <td>Bachelors</td>\n",
              "      <td>female</td>\n",
              "    </tr>\n",
              "    <tr>\n",
              "      <th>2</th>\n",
              "      <td>PAIDOFF</td>\n",
              "      <td>1000</td>\n",
              "      <td>30</td>\n",
              "      <td>NaN</td>\n",
              "      <td>33</td>\n",
              "      <td>Bachelors</td>\n",
              "      <td>female</td>\n",
              "    </tr>\n",
              "    <tr>\n",
              "      <th>3</th>\n",
              "      <td>PAIDOFF</td>\n",
              "      <td>1000</td>\n",
              "      <td>15</td>\n",
              "      <td>NaN</td>\n",
              "      <td>27</td>\n",
              "      <td>College</td>\n",
              "      <td>male</td>\n",
              "    </tr>\n",
              "    <tr>\n",
              "      <th>4</th>\n",
              "      <td>PAIDOFF</td>\n",
              "      <td>1000</td>\n",
              "      <td>30</td>\n",
              "      <td>NaN</td>\n",
              "      <td>28</td>\n",
              "      <td>College</td>\n",
              "      <td>female</td>\n",
              "    </tr>\n",
              "  </tbody>\n",
              "</table>\n",
              "</div>"
            ],
            "text/plain": [
              "  loan_status  principal  terms  ...  age             education  gender\n",
              "0     PAIDOFF       1000     30  ...   45  High School or Below    male\n",
              "1     PAIDOFF       1000     30  ...   50             Bachelors  female\n",
              "2     PAIDOFF       1000     30  ...   33             Bachelors  female\n",
              "3     PAIDOFF       1000     15  ...   27               College    male\n",
              "4     PAIDOFF       1000     30  ...   28               College  female\n",
              "\n",
              "[5 rows x 7 columns]"
            ]
          },
          "metadata": {
            "tags": []
          },
          "execution_count": 6
        }
      ]
    },
    {
      "cell_type": "markdown",
      "metadata": {
        "id": "lCAaGa9GJSoc"
      },
      "source": [
        "Did you notice that `past_due_days` has `NaN` values?\n",
        "\n",
        "**Write-up!** Why might some of the values in `past_due_days` be `NaN`?  With your neighbor, discuss what we should do about these values and note your conclusion below."
      ]
    },
    {
      "cell_type": "markdown",
      "metadata": {
        "id": "XGGmSBkJoQmB"
      },
      "source": [
        "Because this person has paid before the due day."
      ]
    },
    {
      "cell_type": "markdown",
      "metadata": {
        "id": "PKSviPYXJSod"
      },
      "source": [
        "**Try this!** Replace the values in `past_due_days` with a reasonable value. `HINT` you can use the `fillna` function on `DataFrame`s to do this."
      ]
    },
    {
      "cell_type": "code",
      "metadata": {
        "id": "79mjXQI5JSoe"
      },
      "source": [
        "# your code here\n",
        "data['past_due_days'] = data['past_due_days'].fillna(value=0)"
      ],
      "execution_count": null,
      "outputs": []
    },
    {
      "cell_type": "markdown",
      "metadata": {
        "id": "BzDC8q4yJSog"
      },
      "source": [
        "Let's see if it worked."
      ]
    },
    {
      "cell_type": "code",
      "metadata": {
        "id": "nczAyoBtJSoh",
        "colab": {
          "base_uri": "https://localhost:8080/",
          "height": 204
        },
        "outputId": "f1fbf029-2987-4207-f3d5-3e15c4ae30dd"
      },
      "source": [
        "data.head()"
      ],
      "execution_count": null,
      "outputs": [
        {
          "output_type": "execute_result",
          "data": {
            "text/html": [
              "<div>\n",
              "<style scoped>\n",
              "    .dataframe tbody tr th:only-of-type {\n",
              "        vertical-align: middle;\n",
              "    }\n",
              "\n",
              "    .dataframe tbody tr th {\n",
              "        vertical-align: top;\n",
              "    }\n",
              "\n",
              "    .dataframe thead th {\n",
              "        text-align: right;\n",
              "    }\n",
              "</style>\n",
              "<table border=\"1\" class=\"dataframe\">\n",
              "  <thead>\n",
              "    <tr style=\"text-align: right;\">\n",
              "      <th></th>\n",
              "      <th>loan_status</th>\n",
              "      <th>principal</th>\n",
              "      <th>terms</th>\n",
              "      <th>past_due_days</th>\n",
              "      <th>age</th>\n",
              "      <th>education</th>\n",
              "      <th>gender</th>\n",
              "    </tr>\n",
              "  </thead>\n",
              "  <tbody>\n",
              "    <tr>\n",
              "      <th>0</th>\n",
              "      <td>PAIDOFF</td>\n",
              "      <td>1000</td>\n",
              "      <td>30</td>\n",
              "      <td>0.0</td>\n",
              "      <td>45</td>\n",
              "      <td>High School or Below</td>\n",
              "      <td>male</td>\n",
              "    </tr>\n",
              "    <tr>\n",
              "      <th>1</th>\n",
              "      <td>PAIDOFF</td>\n",
              "      <td>1000</td>\n",
              "      <td>30</td>\n",
              "      <td>0.0</td>\n",
              "      <td>50</td>\n",
              "      <td>Bachelors</td>\n",
              "      <td>female</td>\n",
              "    </tr>\n",
              "    <tr>\n",
              "      <th>2</th>\n",
              "      <td>PAIDOFF</td>\n",
              "      <td>1000</td>\n",
              "      <td>30</td>\n",
              "      <td>0.0</td>\n",
              "      <td>33</td>\n",
              "      <td>Bachelors</td>\n",
              "      <td>female</td>\n",
              "    </tr>\n",
              "    <tr>\n",
              "      <th>3</th>\n",
              "      <td>PAIDOFF</td>\n",
              "      <td>1000</td>\n",
              "      <td>15</td>\n",
              "      <td>0.0</td>\n",
              "      <td>27</td>\n",
              "      <td>College</td>\n",
              "      <td>male</td>\n",
              "    </tr>\n",
              "    <tr>\n",
              "      <th>4</th>\n",
              "      <td>PAIDOFF</td>\n",
              "      <td>1000</td>\n",
              "      <td>30</td>\n",
              "      <td>0.0</td>\n",
              "      <td>28</td>\n",
              "      <td>College</td>\n",
              "      <td>female</td>\n",
              "    </tr>\n",
              "  </tbody>\n",
              "</table>\n",
              "</div>"
            ],
            "text/plain": [
              "  loan_status  principal  terms  ...  age             education  gender\n",
              "0     PAIDOFF       1000     30  ...   45  High School or Below    male\n",
              "1     PAIDOFF       1000     30  ...   50             Bachelors  female\n",
              "2     PAIDOFF       1000     30  ...   33             Bachelors  female\n",
              "3     PAIDOFF       1000     15  ...   27               College    male\n",
              "4     PAIDOFF       1000     30  ...   28               College  female\n",
              "\n",
              "[5 rows x 7 columns]"
            ]
          },
          "metadata": {
            "tags": []
          },
          "execution_count": 8
        }
      ]
    },
    {
      "cell_type": "markdown",
      "metadata": {
        "id": "lG-c-oVPJSoj"
      },
      "source": [
        "Nice!"
      ]
    },
    {
      "cell_type": "markdown",
      "metadata": {
        "id": "XQmKpHX8JSok"
      },
      "source": [
        "### Visualizing the Data Set\n",
        "\n",
        "Now that we have narrowed down the features we want to use, let's visualize them."
      ]
    },
    {
      "cell_type": "markdown",
      "metadata": {
        "id": "ewuPiwr5JSol"
      },
      "source": [
        "**Try this!** For each feature, make a new cell below and create a plot that we can use to understand the values of that feature. These plots should be appropriate for the type of each feature (e.g. use a bar plot for categorical features). Ensure that you have all the components off a nice plot, making sure to include things like axes labels, a legend, and a title. Also include a `raw` cell below each, describing what you see. `HINT` you can copy and paste groups of cells by shift-clicking them on the left."
      ]
    },
    {
      "cell_type": "code",
      "metadata": {
        "id": "Oc_dRzqKJSom",
        "colab": {
          "base_uri": "https://localhost:8080/"
        },
        "outputId": "486a0c33-8dd3-4c2b-e6bf-8cd085949d6e"
      },
      "source": [
        "# import python library matplotlib\n",
        "!pip install matplotlib"
      ],
      "execution_count": null,
      "outputs": [
        {
          "output_type": "stream",
          "text": [
            "Requirement already satisfied: matplotlib in /usr/local/lib/python3.7/dist-packages (3.2.2)\n",
            "Requirement already satisfied: python-dateutil>=2.1 in /usr/local/lib/python3.7/dist-packages (from matplotlib) (2.8.1)\n",
            "Requirement already satisfied: numpy>=1.11 in /usr/local/lib/python3.7/dist-packages (from matplotlib) (1.19.5)\n",
            "Requirement already satisfied: kiwisolver>=1.0.1 in /usr/local/lib/python3.7/dist-packages (from matplotlib) (1.3.1)\n",
            "Requirement already satisfied: cycler>=0.10 in /usr/local/lib/python3.7/dist-packages (from matplotlib) (0.10.0)\n",
            "Requirement already satisfied: pyparsing!=2.0.4,!=2.1.2,!=2.1.6,>=2.0.1 in /usr/local/lib/python3.7/dist-packages (from matplotlib) (2.4.7)\n",
            "Requirement already satisfied: six in /usr/local/lib/python3.7/dist-packages (from cycler>=0.10->matplotlib) (1.15.0)\n"
          ],
          "name": "stdout"
        }
      ]
    },
    {
      "cell_type": "code",
      "metadata": {
        "id": "RVHir-UMJSop",
        "colab": {
          "base_uri": "https://localhost:8080/",
          "height": 248
        },
        "outputId": "d236f42b-49e2-4625-f3d3-aa54f71e035f"
      },
      "source": [
        "import matplotlib.pyplot as plt\n",
        "# this cell is free!\n",
        "\n",
        "# your code here\n",
        "\n",
        "# Bar plot for Age\n",
        "ages = data['age'] \n",
        "bins = [10,20,30,40,50,60]\n",
        "\n",
        "plt.hist(ages, bins, histtype='bar', rwidth=0.8)\n",
        "\n",
        "plt.xlabel('x')\n",
        "plt.ylabel('y')\n",
        "plt.title('Feature: Age')\n",
        "plt.show()"
      ],
      "execution_count": null,
      "outputs": [
        {
          "output_type": "error",
          "ename": "NameError",
          "evalue": "ignored",
          "traceback": [
            "\u001b[0;31m---------------------------------------------------------------------------\u001b[0m",
            "\u001b[0;31mNameError\u001b[0m                                 Traceback (most recent call last)",
            "\u001b[0;32m<ipython-input-2-c366ccbd45db>\u001b[0m in \u001b[0;36m<module>\u001b[0;34m()\u001b[0m\n\u001b[1;32m      5\u001b[0m \u001b[0;34m\u001b[0m\u001b[0m\n\u001b[1;32m      6\u001b[0m \u001b[0;31m# Bar plot for Age\u001b[0m\u001b[0;34m\u001b[0m\u001b[0;34m\u001b[0m\u001b[0;34m\u001b[0m\u001b[0m\n\u001b[0;32m----> 7\u001b[0;31m \u001b[0mages\u001b[0m \u001b[0;34m=\u001b[0m \u001b[0mdata\u001b[0m\u001b[0;34m[\u001b[0m\u001b[0;34m'age'\u001b[0m\u001b[0;34m]\u001b[0m\u001b[0;34m\u001b[0m\u001b[0;34m\u001b[0m\u001b[0m\n\u001b[0m\u001b[1;32m      8\u001b[0m \u001b[0mbins\u001b[0m \u001b[0;34m=\u001b[0m \u001b[0;34m[\u001b[0m\u001b[0;36m10\u001b[0m\u001b[0;34m,\u001b[0m\u001b[0;36m20\u001b[0m\u001b[0;34m,\u001b[0m\u001b[0;36m30\u001b[0m\u001b[0;34m,\u001b[0m\u001b[0;36m40\u001b[0m\u001b[0;34m,\u001b[0m\u001b[0;36m50\u001b[0m\u001b[0;34m,\u001b[0m\u001b[0;36m60\u001b[0m\u001b[0;34m]\u001b[0m\u001b[0;34m\u001b[0m\u001b[0;34m\u001b[0m\u001b[0m\n\u001b[1;32m      9\u001b[0m \u001b[0;34m\u001b[0m\u001b[0m\n",
            "\u001b[0;31mNameError\u001b[0m: name 'data' is not defined"
          ]
        }
      ]
    },
    {
      "cell_type": "code",
      "metadata": {
        "id": "pz7CS4c7JSot"
      },
      "source": [
        "# Bar plot for Education\n",
        "data['education'].value_counts().plot(kind='bar');"
      ],
      "execution_count": null,
      "outputs": []
    },
    {
      "cell_type": "code",
      "metadata": {
        "id": "xpFDAea0JSow"
      },
      "source": [
        "data['gender'].value_counts().plot(kind='bar');"
      ],
      "execution_count": null,
      "outputs": []
    },
    {
      "cell_type": "code",
      "metadata": {
        "id": "Ue-qKYhZCsVG"
      },
      "source": [
        "# Use \"Raw\" cells to describe what you see\n",
        "# You response here:  \n",
        "# Age: most borrowers age are around 20 to 40\n",
        "# Education: The most common degree of the borrowers is a college degree\n",
        "# Gender: There are way mor males than females"
      ],
      "execution_count": null,
      "outputs": []
    },
    {
      "cell_type": "markdown",
      "metadata": {
        "id": "Zabtyp3_JSoz"
      },
      "source": [
        "## 3. Building a Model\n",
        "\n",
        "Now that we have a sense for the nuances of our dataset we can try building some models."
      ]
    },
    {
      "cell_type": "markdown",
      "metadata": {
        "id": "VjEOisxOJSo0"
      },
      "source": [
        "Before we continue, we will need to turn our categorical features into numbers instead of the string values that they currently have. As a reminder, this is what our dataset looks like right now."
      ]
    },
    {
      "cell_type": "code",
      "metadata": {
        "id": "jqHHRoxhJSo0",
        "colab": {
          "base_uri": "https://localhost:8080/",
          "height": 204
        },
        "outputId": "1eda0d53-feb7-4c88-a0a7-917332b610ef"
      },
      "source": [
        "data"
      ],
      "execution_count": null,
      "outputs": [
        {
          "output_type": "execute_result",
          "data": {
            "text/html": [
              "<div>\n",
              "<style scoped>\n",
              "    .dataframe tbody tr th:only-of-type {\n",
              "        vertical-align: middle;\n",
              "    }\n",
              "\n",
              "    .dataframe tbody tr th {\n",
              "        vertical-align: top;\n",
              "    }\n",
              "\n",
              "    .dataframe thead th {\n",
              "        text-align: right;\n",
              "    }\n",
              "</style>\n",
              "<table border=\"1\" class=\"dataframe\">\n",
              "  <thead>\n",
              "    <tr style=\"text-align: right;\">\n",
              "      <th></th>\n",
              "      <th>loan_status</th>\n",
              "      <th>principal</th>\n",
              "      <th>terms</th>\n",
              "      <th>past_due_days</th>\n",
              "      <th>age</th>\n",
              "      <th>education</th>\n",
              "      <th>gender</th>\n",
              "    </tr>\n",
              "  </thead>\n",
              "  <tbody>\n",
              "    <tr>\n",
              "      <th>0</th>\n",
              "      <td>PAIDOFF</td>\n",
              "      <td>1000</td>\n",
              "      <td>30</td>\n",
              "      <td>0.0</td>\n",
              "      <td>45</td>\n",
              "      <td>High School or Below</td>\n",
              "      <td>male</td>\n",
              "    </tr>\n",
              "    <tr>\n",
              "      <th>1</th>\n",
              "      <td>PAIDOFF</td>\n",
              "      <td>1000</td>\n",
              "      <td>30</td>\n",
              "      <td>0.0</td>\n",
              "      <td>50</td>\n",
              "      <td>Bachelors</td>\n",
              "      <td>female</td>\n",
              "    </tr>\n",
              "    <tr>\n",
              "      <th>2</th>\n",
              "      <td>PAIDOFF</td>\n",
              "      <td>1000</td>\n",
              "      <td>30</td>\n",
              "      <td>0.0</td>\n",
              "      <td>33</td>\n",
              "      <td>Bachelors</td>\n",
              "      <td>female</td>\n",
              "    </tr>\n",
              "    <tr>\n",
              "      <th>3</th>\n",
              "      <td>PAIDOFF</td>\n",
              "      <td>1000</td>\n",
              "      <td>15</td>\n",
              "      <td>0.0</td>\n",
              "      <td>27</td>\n",
              "      <td>College</td>\n",
              "      <td>male</td>\n",
              "    </tr>\n",
              "    <tr>\n",
              "      <th>4</th>\n",
              "      <td>PAIDOFF</td>\n",
              "      <td>1000</td>\n",
              "      <td>30</td>\n",
              "      <td>0.0</td>\n",
              "      <td>28</td>\n",
              "      <td>College</td>\n",
              "      <td>female</td>\n",
              "    </tr>\n",
              "  </tbody>\n",
              "</table>\n",
              "</div>"
            ],
            "text/plain": [
              "  loan_status  principal  terms  ...  age             education  gender\n",
              "0     PAIDOFF       1000     30  ...   45  High School or Below    male\n",
              "1     PAIDOFF       1000     30  ...   50             Bachelors  female\n",
              "2     PAIDOFF       1000     30  ...   33             Bachelors  female\n",
              "3     PAIDOFF       1000     15  ...   27               College    male\n",
              "4     PAIDOFF       1000     30  ...   28               College  female\n",
              "\n",
              "[5 rows x 7 columns]"
            ]
          },
          "metadata": {
            "tags": []
          },
          "execution_count": 14
        }
      ]
    },
    {
      "cell_type": "markdown",
      "metadata": {
        "id": "Pl7OxYCiJSo3"
      },
      "source": [
        "An easy way to do this encoding is to use the [LabelEncoder](https://scikit-learn.org/stable/modules/generated/sklearn.preprocessing.LabelEncoder.html) from `sklearn`. In the cell below, we create a list called `categorical` containing the names of the columns corresponding to the categorical features in our dataset. We then create and instance of a `LabelEncoder` and use it to transform the categorical features."
      ]
    },
    {
      "cell_type": "code",
      "metadata": {
        "id": "QTFd_ax3JSo4",
        "colab": {
          "base_uri": "https://localhost:8080/",
          "height": 122
        },
        "outputId": "5002c7a2-8209-4fd5-bcca-a342069b8127"
      },
      "source": [
        "# import sklearn library\n",
        "!pip install sklearn"
      ],
      "execution_count": null,
      "outputs": [
        {
          "output_type": "stream",
          "text": [
            "Requirement already satisfied: sklearn in /usr/local/lib/python3.6/dist-packages (0.0)\n",
            "Requirement already satisfied: scikit-learn in /usr/local/lib/python3.6/dist-packages (from sklearn) (0.22.2.post1)\n",
            "Requirement already satisfied: joblib>=0.11 in /usr/local/lib/python3.6/dist-packages (from scikit-learn->sklearn) (0.15.1)\n",
            "Requirement already satisfied: scipy>=0.17.0 in /usr/local/lib/python3.6/dist-packages (from scikit-learn->sklearn) (1.4.1)\n",
            "Requirement already satisfied: numpy>=1.11.0 in /usr/local/lib/python3.6/dist-packages (from scikit-learn->sklearn) (1.18.5)\n"
          ],
          "name": "stdout"
        }
      ]
    },
    {
      "cell_type": "code",
      "metadata": {
        "id": "5tVEDETkJSo7"
      },
      "source": [
        "from sklearn.preprocessing import LabelEncoder\n",
        "\n",
        "categorical = ['loan_status', 'education', 'gender']\n",
        "\n",
        "# create an instance of a LabelEncoder\n",
        "encoder = LabelEncoder()\n",
        "\n",
        "# make a copy of our data\n",
        "encoded = data.copy()\n",
        "\n",
        "# apply the encoder's `fit_transform` method to the values for each categorical\n",
        "# feature column\n",
        "encoded[categorical] = data[categorical].apply(encoder.fit_transform)"
      ],
      "execution_count": null,
      "outputs": []
    },
    {
      "cell_type": "markdown",
      "metadata": {
        "id": "VgKVxhKLJSo-"
      },
      "source": [
        "Let's take a look at the results."
      ]
    },
    {
      "cell_type": "code",
      "metadata": {
        "id": "P6XME0WGJSo_",
        "colab": {
          "base_uri": "https://localhost:8080/",
          "height": 419
        },
        "outputId": "e075d7b0-5bc1-43cf-8b17-13062c8ecf77"
      },
      "source": [
        "encoded"
      ],
      "execution_count": null,
      "outputs": [
        {
          "output_type": "execute_result",
          "data": {
            "text/html": [
              "<div>\n",
              "<style scoped>\n",
              "    .dataframe tbody tr th:only-of-type {\n",
              "        vertical-align: middle;\n",
              "    }\n",
              "\n",
              "    .dataframe tbody tr th {\n",
              "        vertical-align: top;\n",
              "    }\n",
              "\n",
              "    .dataframe thead th {\n",
              "        text-align: right;\n",
              "    }\n",
              "</style>\n",
              "<table border=\"1\" class=\"dataframe\">\n",
              "  <thead>\n",
              "    <tr style=\"text-align: right;\">\n",
              "      <th></th>\n",
              "      <th>loan_status</th>\n",
              "      <th>principal</th>\n",
              "      <th>terms</th>\n",
              "      <th>past_due_days</th>\n",
              "      <th>age</th>\n",
              "      <th>education</th>\n",
              "      <th>gender</th>\n",
              "    </tr>\n",
              "  </thead>\n",
              "  <tbody>\n",
              "    <tr>\n",
              "      <th>0</th>\n",
              "      <td>2</td>\n",
              "      <td>1000</td>\n",
              "      <td>30</td>\n",
              "      <td>0.0</td>\n",
              "      <td>45</td>\n",
              "      <td>2</td>\n",
              "      <td>1</td>\n",
              "    </tr>\n",
              "    <tr>\n",
              "      <th>1</th>\n",
              "      <td>2</td>\n",
              "      <td>1000</td>\n",
              "      <td>30</td>\n",
              "      <td>0.0</td>\n",
              "      <td>50</td>\n",
              "      <td>0</td>\n",
              "      <td>0</td>\n",
              "    </tr>\n",
              "    <tr>\n",
              "      <th>2</th>\n",
              "      <td>2</td>\n",
              "      <td>1000</td>\n",
              "      <td>30</td>\n",
              "      <td>0.0</td>\n",
              "      <td>33</td>\n",
              "      <td>0</td>\n",
              "      <td>0</td>\n",
              "    </tr>\n",
              "    <tr>\n",
              "      <th>3</th>\n",
              "      <td>2</td>\n",
              "      <td>1000</td>\n",
              "      <td>15</td>\n",
              "      <td>0.0</td>\n",
              "      <td>27</td>\n",
              "      <td>1</td>\n",
              "      <td>1</td>\n",
              "    </tr>\n",
              "    <tr>\n",
              "      <th>4</th>\n",
              "      <td>2</td>\n",
              "      <td>1000</td>\n",
              "      <td>30</td>\n",
              "      <td>0.0</td>\n",
              "      <td>28</td>\n",
              "      <td>1</td>\n",
              "      <td>0</td>\n",
              "    </tr>\n",
              "    <tr>\n",
              "      <th>...</th>\n",
              "      <td>...</td>\n",
              "      <td>...</td>\n",
              "      <td>...</td>\n",
              "      <td>...</td>\n",
              "      <td>...</td>\n",
              "      <td>...</td>\n",
              "      <td>...</td>\n",
              "    </tr>\n",
              "    <tr>\n",
              "      <th>495</th>\n",
              "      <td>1</td>\n",
              "      <td>1000</td>\n",
              "      <td>30</td>\n",
              "      <td>3.0</td>\n",
              "      <td>28</td>\n",
              "      <td>2</td>\n",
              "      <td>1</td>\n",
              "    </tr>\n",
              "    <tr>\n",
              "      <th>496</th>\n",
              "      <td>1</td>\n",
              "      <td>1000</td>\n",
              "      <td>15</td>\n",
              "      <td>14.0</td>\n",
              "      <td>26</td>\n",
              "      <td>2</td>\n",
              "      <td>1</td>\n",
              "    </tr>\n",
              "    <tr>\n",
              "      <th>497</th>\n",
              "      <td>1</td>\n",
              "      <td>800</td>\n",
              "      <td>15</td>\n",
              "      <td>3.0</td>\n",
              "      <td>30</td>\n",
              "      <td>1</td>\n",
              "      <td>1</td>\n",
              "    </tr>\n",
              "    <tr>\n",
              "      <th>498</th>\n",
              "      <td>1</td>\n",
              "      <td>1000</td>\n",
              "      <td>30</td>\n",
              "      <td>1.0</td>\n",
              "      <td>38</td>\n",
              "      <td>1</td>\n",
              "      <td>0</td>\n",
              "    </tr>\n",
              "    <tr>\n",
              "      <th>499</th>\n",
              "      <td>1</td>\n",
              "      <td>1000</td>\n",
              "      <td>30</td>\n",
              "      <td>8.0</td>\n",
              "      <td>28</td>\n",
              "      <td>2</td>\n",
              "      <td>1</td>\n",
              "    </tr>\n",
              "  </tbody>\n",
              "</table>\n",
              "<p>500 rows × 7 columns</p>\n",
              "</div>"
            ],
            "text/plain": [
              "     loan_status  principal  terms  past_due_days  age  education  gender\n",
              "0              2       1000     30            0.0   45          2       1\n",
              "1              2       1000     30            0.0   50          0       0\n",
              "2              2       1000     30            0.0   33          0       0\n",
              "3              2       1000     15            0.0   27          1       1\n",
              "4              2       1000     30            0.0   28          1       0\n",
              "..           ...        ...    ...            ...  ...        ...     ...\n",
              "495            1       1000     30            3.0   28          2       1\n",
              "496            1       1000     15           14.0   26          2       1\n",
              "497            1        800     15            3.0   30          1       1\n",
              "498            1       1000     30            1.0   38          1       0\n",
              "499            1       1000     30            8.0   28          2       1\n",
              "\n",
              "[500 rows x 7 columns]"
            ]
          },
          "metadata": {
            "tags": []
          },
          "execution_count": 17
        }
      ]
    },
    {
      "cell_type": "markdown",
      "metadata": {
        "id": "ww6p1nInJSpE"
      },
      "source": [
        "Next let's separate our features (X) from our target variable, `loan_status` (y)."
      ]
    },
    {
      "cell_type": "code",
      "metadata": {
        "id": "diXymN8AJSpE"
      },
      "source": [
        "X, y = encoded.loc[:, encoded.columns != 'loan_status'], encoded.loan_status"
      ],
      "execution_count": null,
      "outputs": []
    },
    {
      "cell_type": "markdown",
      "metadata": {
        "id": "NQ_-gAWTJSpG"
      },
      "source": [
        "### Establishing a Baseline\n",
        "\n",
        "Now we're ready to start building models. First, let's create a train/test split of our data.\n",
        "\n",
        "Notice the `test_size = 0.2` means that 80% of our data is split into the training subset and the other 20% the testing subset."
      ]
    },
    {
      "cell_type": "code",
      "metadata": {
        "id": "xcJucyJMJSpH"
      },
      "source": [
        "from sklearn.model_selection import train_test_split\n",
        "\n",
        "X_train, X_test, y_train, y_test = train_test_split(X, y, test_size=0.2, stratify=y, random_state=3)"
      ],
      "execution_count": null,
      "outputs": []
    },
    {
      "cell_type": "markdown",
      "metadata": {
        "id": "rWJNJmsLJSpJ"
      },
      "source": [
        "Then, let's train and evaluate a LogisticRegression model."
      ]
    },
    {
      "cell_type": "code",
      "metadata": {
        "id": "UMSdNnUnJSpK",
        "colab": {
          "base_uri": "https://localhost:8080/",
          "height": 102
        },
        "outputId": "d8c00443-ae69-476b-b273-9e162a64e1f4"
      },
      "source": [
        "from sklearn.linear_model import LogisticRegression\n",
        "\n",
        "model = LogisticRegression(solver='liblinear', multi_class='auto')\n",
        "model.fit(X_train, y_train)"
      ],
      "execution_count": null,
      "outputs": [
        {
          "output_type": "execute_result",
          "data": {
            "text/plain": [
              "LogisticRegression(C=1.0, class_weight=None, dual=False, fit_intercept=True,\n",
              "                   intercept_scaling=1, l1_ratio=None, max_iter=100,\n",
              "                   multi_class='auto', n_jobs=None, penalty='l2',\n",
              "                   random_state=None, solver='liblinear', tol=0.0001, verbose=0,\n",
              "                   warm_start=False)"
            ]
          },
          "metadata": {
            "tags": []
          },
          "execution_count": 20
        }
      ]
    },
    {
      "cell_type": "markdown",
      "metadata": {
        "id": "i6gK2euUJSpN"
      },
      "source": [
        "**Try this!** In the cell below, evaluate the model's performance on the testing set."
      ]
    },
    {
      "cell_type": "code",
      "metadata": {
        "id": "11CJL8wnJSpO",
        "colab": {
          "base_uri": "https://localhost:8080/",
          "height": 68
        },
        "outputId": "185c3dd4-c57d-47b8-d348-96c4161c3813"
      },
      "source": [
        "# your code here\n",
        "print(f'''\n",
        "validation score: {model.score(X_test, y_test)}\n",
        "''')"
      ],
      "execution_count": null,
      "outputs": [
        {
          "output_type": "stream",
          "text": [
            "\n",
            "validation score: 0.97\n",
            "\n"
          ],
          "name": "stdout"
        }
      ]
    },
    {
      "cell_type": "markdown",
      "metadata": {
        "id": "90uRsiM4JSpQ"
      },
      "source": [
        "**Write-up!** How does our model perform on the test set?\n",
        "\n",
        "0.97 is a high validation score which means our algorithm is working pretty well on the test data. "
      ]
    },
    {
      "cell_type": "markdown",
      "metadata": {
        "id": "XOOro9myJSpR"
      },
      "source": [
        "Let's also try looking at the model's performance on test examples of different genders."
      ]
    },
    {
      "cell_type": "code",
      "metadata": {
        "id": "x1kNCo7nJSpT",
        "colab": {
          "base_uri": "https://localhost:8080/",
          "height": 85
        },
        "outputId": "056bcbe2-f735-4e51-ce3f-252bcd6aa9e7"
      },
      "source": [
        "print(f'''\n",
        "validation (men) score: {model.score(X_test[X_test['gender'] == 1], y_test[X_test['gender'] == 1]):0.3f}\n",
        "validation (women) score: {model.score(X_test[X_test['gender'] == 0], y_test[X_test['gender'] == 0]):0.3f}\n",
        "''')"
      ],
      "execution_count": null,
      "outputs": [
        {
          "output_type": "stream",
          "text": [
            "\n",
            "validation (men) score: 0.988\n",
            "validation (women) score: 0.889\n",
            "\n"
          ],
          "name": "stdout"
        }
      ]
    },
    {
      "cell_type": "markdown",
      "metadata": {
        "id": "Ue8saeViJSpV"
      },
      "source": [
        "Yikes!\n",
        "\n",
        "**Write-up!** What do you notice about these scores? How does these compare with the initial score we saw for the entire test set? What does this imply about our model?"
      ]
    },
    {
      "cell_type": "markdown",
      "metadata": {
        "id": "hxCV0PncJSpW"
      },
      "source": [
        "### Dropping Gender\n",
        "\n",
        "So our model is biased with respect to gender and gender is a feature of the model. Would it help to ignore the gender feature during training? Let's try it out."
      ]
    },
    {
      "cell_type": "markdown",
      "metadata": {
        "id": "vCjLwxFoJSpX"
      },
      "source": [
        "Let's start by creating another train/test split, but this time using a copy of `X` and `y` that don't include `gender`."
      ]
    },
    {
      "cell_type": "code",
      "metadata": {
        "id": "QgjZDuFBJSpX"
      },
      "source": [
        "X_without_gender = X.drop(['gender'], axis=1)\n",
        "\n",
        "X_train, X_test, y_train, y_test = \\\n",
        "    train_test_split(X_without_gender, y, test_size=0.2, stratify=y, random_state=3)"
      ],
      "execution_count": null,
      "outputs": []
    },
    {
      "cell_type": "markdown",
      "metadata": {
        "id": "AVzd0UfnJSpb"
      },
      "source": [
        "Let's see what `X_train` looks like now."
      ]
    },
    {
      "cell_type": "code",
      "metadata": {
        "id": "G6vNW6pxJSpb",
        "colab": {
          "base_uri": "https://localhost:8080/",
          "height": 204
        },
        "outputId": "2800167f-1aa8-4dc8-fa44-31cd36dcba65"
      },
      "source": [
        "X_train.head()"
      ],
      "execution_count": null,
      "outputs": [
        {
          "output_type": "execute_result",
          "data": {
            "text/html": [
              "<div>\n",
              "<style scoped>\n",
              "    .dataframe tbody tr th:only-of-type {\n",
              "        vertical-align: middle;\n",
              "    }\n",
              "\n",
              "    .dataframe tbody tr th {\n",
              "        vertical-align: top;\n",
              "    }\n",
              "\n",
              "    .dataframe thead th {\n",
              "        text-align: right;\n",
              "    }\n",
              "</style>\n",
              "<table border=\"1\" class=\"dataframe\">\n",
              "  <thead>\n",
              "    <tr style=\"text-align: right;\">\n",
              "      <th></th>\n",
              "      <th>principal</th>\n",
              "      <th>terms</th>\n",
              "      <th>past_due_days</th>\n",
              "      <th>age</th>\n",
              "      <th>education</th>\n",
              "    </tr>\n",
              "  </thead>\n",
              "  <tbody>\n",
              "    <tr>\n",
              "      <th>215</th>\n",
              "      <td>1000</td>\n",
              "      <td>30</td>\n",
              "      <td>0.0</td>\n",
              "      <td>29</td>\n",
              "      <td>1</td>\n",
              "    </tr>\n",
              "    <tr>\n",
              "      <th>196</th>\n",
              "      <td>1000</td>\n",
              "      <td>30</td>\n",
              "      <td>0.0</td>\n",
              "      <td>29</td>\n",
              "      <td>1</td>\n",
              "    </tr>\n",
              "    <tr>\n",
              "      <th>118</th>\n",
              "      <td>1000</td>\n",
              "      <td>30</td>\n",
              "      <td>0.0</td>\n",
              "      <td>35</td>\n",
              "      <td>0</td>\n",
              "    </tr>\n",
              "    <tr>\n",
              "      <th>432</th>\n",
              "      <td>800</td>\n",
              "      <td>7</td>\n",
              "      <td>2.0</td>\n",
              "      <td>34</td>\n",
              "      <td>0</td>\n",
              "    </tr>\n",
              "    <tr>\n",
              "      <th>496</th>\n",
              "      <td>1000</td>\n",
              "      <td>15</td>\n",
              "      <td>14.0</td>\n",
              "      <td>26</td>\n",
              "      <td>2</td>\n",
              "    </tr>\n",
              "  </tbody>\n",
              "</table>\n",
              "</div>"
            ],
            "text/plain": [
              "     principal  terms  past_due_days  age  education\n",
              "215       1000     30            0.0   29          1\n",
              "196       1000     30            0.0   29          1\n",
              "118       1000     30            0.0   35          0\n",
              "432        800      7            2.0   34          0\n",
              "496       1000     15           14.0   26          2"
            ]
          },
          "metadata": {
            "tags": []
          },
          "execution_count": 24
        }
      ]
    },
    {
      "cell_type": "markdown",
      "metadata": {
        "id": "qcY6FQIFJSpd"
      },
      "source": [
        "Now let's repeat our procedure for our baseline experiment."
      ]
    },
    {
      "cell_type": "code",
      "metadata": {
        "id": "bML_nRS1JSpf",
        "colab": {
          "base_uri": "https://localhost:8080/",
          "height": 119
        },
        "outputId": "6428b79b-5d32-4165-9843-c008ac4a0fb2"
      },
      "source": [
        "model = LogisticRegression(solver='liblinear', multi_class='auto')\n",
        "model.fit(X_train, y_train)\n",
        "\n",
        "print(f'''\n",
        "\n",
        "validation score: {model.score(X_test, y_test)}\n",
        "validation (men) score: {model.score(X_test[X.iloc[X_test.index]['gender'] == 1],\n",
        "                                     y_test[X.iloc[X_test.index]['gender'] == 1]):0.3f}\n",
        "validation (women) score: {model.score(X_test[X.iloc[X_test.index]['gender'] == 0],\n",
        "                                       y_test[X.iloc[X_test.index]['gender'] == 0]):0.3f}\n",
        "''')"
      ],
      "execution_count": null,
      "outputs": [
        {
          "output_type": "stream",
          "text": [
            "\n",
            "\n",
            "validation score: 0.97\n",
            "validation (men) score: 0.988\n",
            "validation (women) score: 0.889\n",
            "\n"
          ],
          "name": "stdout"
        }
      ]
    },
    {
      "cell_type": "markdown",
      "metadata": {
        "id": "VkzDYb3RJSpg"
      },
      "source": [
        "The results are the same. We should take care to have a representative sample of each gender in order to acheive similarly accurate outcomes for both.\n",
        "\n",
        "\n",
        "**Write-up!** With your neighbor, discuss what this might imply about our model and our data. Also, discuss why it may or may not be a good idea to ignore \"protected variables\" like \"gender\" when training a model. Record your response below."
      ]
    },
    {
      "cell_type": "markdown",
      "metadata": {
        "id": "CkcRndKBJSpi"
      },
      "source": [
        "## 4. Becoming Data and Fairness Aware\n",
        "\n",
        "Discussion with the class on machine learning fairness. \n",
        "\n",
        "Refer to the Lesson Plan for instructions."
      ]
    }
  ]
}