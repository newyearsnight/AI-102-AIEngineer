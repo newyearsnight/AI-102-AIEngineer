{
  "nbformat": 4,
  "nbformat_minor": 0,
  "metadata": {
    "colab": {
      "provenance": [],
      "authorship_tag": "ABX9TyM9mb1kH9XEfMHDO++nlWMS",
      "include_colab_link": true
    },
    "kernelspec": {
      "name": "python3",
      "display_name": "Python 3"
    },
    "language_info": {
      "name": "python"
    }
  },
  "cells": [
    {
      "cell_type": "markdown",
      "metadata": {
        "id": "view-in-github",
        "colab_type": "text"
      },
      "source": [
        "<a href=\"https://colab.research.google.com/github/newyearsnight/AI-102-AIEngineer/blob/master/sentence_analysis.ipynb\" target=\"_parent\"><img src=\"https://colab.research.google.com/assets/colab-badge.svg\" alt=\"Open In Colab\"/></a>"
      ]
    },
    {
      "cell_type": "code",
      "execution_count": null,
      "metadata": {
        "id": "xKudpdrEYYUH"
      },
      "outputs": [],
      "source": [
        "import nltk\n",
        "nltk.download('vader_lexicon')\n",
        "from nltk.sentiment.vader import SentimentIntensityAnalyzer\n",
        "\n",
        "def read_file(filename):\n",
        "    with open(filename, 'r') as file:\n",
        "        sentences = file.readlines()\n",
        "    return sentences\n",
        "\n",
        "def analyze_sentiments(sentences):\n",
        "    analyzer = SentimentIntensityAnalyzer()\n",
        "    positive = 0\n",
        "    negative = 0\n",
        "    neutral = 0\n",
        "    for sentence in sentences:\n",
        "        score = analyzer.polarity_scores(sentence)['compound']\n",
        "        if score > 0:\n",
        "            positive += 1\n",
        "            sentiment = \"positive\"\n",
        "        elif score < 0:\n",
        "            negative += 1\n",
        "            sentiment = \"negative\"\n",
        "        else:\n",
        "            neutral += 1\n",
        "            sentiment = \"neutral\"\n",
        "        print(\"Sentence: \", sentence.strip())\n",
        "        print(\"Sentiment: \", sentiment)\n",
        "        print(\"---\")\n",
        "    total = positive + negative + neutral\n",
        "    positive_percent = (positive / total) * 100\n",
        "    negative_percent = (negative / total) * 100\n",
        "    neutral_percent = (neutral / total) * 100\n",
        "    print(\"Positive: {:.2f}%\".format(positive_percent))\n",
        "    print(\"Negative: {:.2f}%\".format(negative_percent))\n",
        "    print(\"Neutral: {:.2f}%\".format(neutral_percent))\n",
        "\n",
        "# Read the sentences from the file\n",
        "sentences = read_file('sentences.txt')\n",
        "\n",
        "# Analyze the sentiments of each sentence\n",
        "analyze_sentiments(sentences)\n"
      ]
    }
  ]
}